{
 "cells": [
  {
   "cell_type": "code",
   "execution_count": 1,
   "id": "eb24b0b9-7edb-4007-b8a1-7bc4cee6cc19",
   "metadata": {},
   "outputs": [],
   "source": [
    "import pandas as pd\n",
    "import seaborn as sns"
   ]
  },
  {
   "cell_type": "code",
   "execution_count": 2,
   "id": "7d1bb3ec-9528-4687-bb51-f5dc0b1e29f3",
   "metadata": {},
   "outputs": [],
   "source": [
    "park1 = pd.read_csv(\"parks1.csv\")"
   ]
  },
  {
   "cell_type": "code",
   "execution_count": 3,
   "id": "a7488708-387d-40f8-8543-5c640d19f661",
   "metadata": {},
   "outputs": [
    {
     "data": {
      "text/plain": [
       "Index(['objectid_1', 'objectid', 'acreage', 'sqft', 'final_cat', 'type',\n",
       "       'sector', 'origpkname', 'updatepknm', 'alterntnam', 'divname',\n",
       "       'shape_leng', 'globalid', 'created_user', 'created_date',\n",
       "       'last_edited_user', 'last_edited_date', 'maintenanceresponsibility',\n",
       "       'dpw_ac', 'globalid_1', 'shape_area', 'shape_length'],\n",
       "      dtype='object')"
      ]
     },
     "execution_count": 3,
     "metadata": {},
     "output_type": "execute_result"
    }
   ],
   "source": [
    "park1.columns"
   ]
  },
  {
   "cell_type": "code",
   "execution_count": 4,
   "id": "754cb306-699c-4aa9-8003-dab0f9748e62",
   "metadata": {},
   "outputs": [],
   "source": [
    "park1 = park1[['objectid','sqft','origpkname','updatepknm','alterntnam']]"
   ]
  },
  {
   "cell_type": "code",
   "execution_count": 5,
   "id": "94babbf7-7dfb-4dad-a050-090e210d4a0b",
   "metadata": {},
   "outputs": [
    {
     "data": {
      "text/plain": [
       "<AxesSubplot:>"
      ]
     },
     "execution_count": 5,
     "metadata": {},
     "output_type": "execute_result"
    },
    {
     "data": {
      "image/png": "[encoded data removed]",
      "text/plain": [
       "<Figure size 432x288 with 1 Axes>"
      ]
     },
     "metadata": {
      "needs_background": "light"
     },
     "output_type": "display_data"
    }
   ],
   "source": [
    "sns.heatmap(park1.isnull(),yticklabels=False,cbar=False,cmap='viridis')"
   ]
  },
  {
   "cell_type": "code",
   "execution_count": 6,
   "id": "1a12ddc3-3dff-4ea5-89a2-512c61a4ee9d",
   "metadata": {},
   "outputs": [],
   "source": [
    "park1.dropna(inplace=True)"
   ]
  },
  {
   "cell_type": "code",
   "execution_count": 7,
   "id": "809d7bfb-f141-4404-9ad8-e8cd6553782c",
   "metadata": {},
   "outputs": [],
   "source": [
    "park1 = park1[[\"sqft\",\"updatepknm\"]]\n",
    "park1.rename(columns = {\"updatepknm\":\"name\"},inplace = True)"
   ]
  },
  {
   "cell_type": "code",
   "execution_count": 8,
   "id": "e0e71354-63ca-4c8a-8c80-059fa92f5f3f",
   "metadata": {},
   "outputs": [
    {
     "data": {
      "text/html": [
       "<div>\n",
       "<style scoped>\n",
       "    .dataframe tbody tr th:only-of-type {\n",
       "        vertical-align: middle;\n",
       "    }\n",
       "\n",
       "    .dataframe tbody tr th {\n",
       "        vertical-align: top;\n",
       "    }\n",
       "\n",
       "    .dataframe thead th {\n",
       "        text-align: right;\n",
       "    }\n",
       "</style>\n",
       "<table border=\"1\" class=\"dataframe\">\n",
       "  <thead>\n",
       "    <tr style=\"text-align: right;\">\n",
       "      <th></th>\n",
       "      <th>sqft</th>\n",
       "      <th>name</th>\n",
       "    </tr>\n",
       "  </thead>\n",
       "  <tbody>\n",
       "    <tr>\n",
       "      <th>0</th>\n",
       "      <td>4.177537e+04</td>\n",
       "      <td>August Wilson Park</td>\n",
       "    </tr>\n",
       "    <tr>\n",
       "      <th>1</th>\n",
       "      <td>8.973835e+04</td>\n",
       "      <td>Young Field Park</td>\n",
       "    </tr>\n",
       "    <tr>\n",
       "      <th>2</th>\n",
       "      <td>2.041572e+04</td>\n",
       "      <td>Roland Lockridge Community Park</td>\n",
       "    </tr>\n",
       "    <tr>\n",
       "      <th>3</th>\n",
       "      <td>8.517818e+04</td>\n",
       "      <td>Friendship Park</td>\n",
       "    </tr>\n",
       "    <tr>\n",
       "      <th>4</th>\n",
       "      <td>2.225066e+05</td>\n",
       "      <td>Heth's Park</td>\n",
       "    </tr>\n",
       "    <tr>\n",
       "      <th>...</th>\n",
       "      <td>...</td>\n",
       "      <td>...</td>\n",
       "    </tr>\n",
       "    <tr>\n",
       "      <th>197</th>\n",
       "      <td>1.717911e+06</td>\n",
       "      <td>Fairhaven Park</td>\n",
       "    </tr>\n",
       "    <tr>\n",
       "      <th>198</th>\n",
       "      <td>3.494049e+06</td>\n",
       "      <td>Seldom Seen Park</td>\n",
       "    </tr>\n",
       "    <tr>\n",
       "      <th>199</th>\n",
       "      <td>1.450462e+06</td>\n",
       "      <td>Bigelow Park</td>\n",
       "    </tr>\n",
       "    <tr>\n",
       "      <th>213</th>\n",
       "      <td>6.072921e+06</td>\n",
       "      <td>Hazelwood Park</td>\n",
       "    </tr>\n",
       "    <tr>\n",
       "      <th>214</th>\n",
       "      <td>1.859561e+05</td>\n",
       "      <td>Homewood Park</td>\n",
       "    </tr>\n",
       "  </tbody>\n",
       "</table>\n",
       "<p>202 rows × 2 columns</p>\n",
       "</div>"
      ],
      "text/plain": [
       "             sqft                             name\n",
       "0    4.177537e+04               August Wilson Park\n",
       "1    8.973835e+04                 Young Field Park\n",
       "2    2.041572e+04  Roland Lockridge Community Park\n",
       "3    8.517818e+04                  Friendship Park\n",
       "4    2.225066e+05                      Heth's Park\n",
       "..            ...                              ...\n",
       "197  1.717911e+06                   Fairhaven Park\n",
       "198  3.494049e+06                 Seldom Seen Park\n",
       "199  1.450462e+06                     Bigelow Park\n",
       "213  6.072921e+06                   Hazelwood Park\n",
       "214  1.859561e+05                    Homewood Park\n",
       "\n",
       "[202 rows x 2 columns]"
      ]
     },
     "execution_count": 8,
     "metadata": {},
     "output_type": "execute_result"
    }
   ],
   "source": [
    "park1"
   ]
  },
  {
   "cell_type": "code",
   "execution_count": 9,
   "id": "98a26fb3-90e0-499b-a106-426a5a338070",
   "metadata": {},
   "outputs": [],
   "source": [
    "park2 = pd.read_csv(\"parks2.csv\")"
   ]
  },
  {
   "cell_type": "code",
   "execution_count": 10,
   "id": "9a6b02e2-8df3-46df-bbbd-591f2744b341",
   "metadata": {},
   "outputs": [
    {
     "data": {
      "text/html": [
       "<div>\n",
       "<style scoped>\n",
       "    .dataframe tbody tr th:only-of-type {\n",
       "        vertical-align: middle;\n",
       "    }\n",
       "\n",
       "    .dataframe tbody tr th {\n",
       "        vertical-align: top;\n",
       "    }\n",
       "\n",
       "    .dataframe thead th {\n",
       "        text-align: right;\n",
       "    }\n",
       "</style>\n",
       "<table border=\"1\" class=\"dataframe\">\n",
       "  <thead>\n",
       "    <tr style=\"text-align: right;\">\n",
       "      <th></th>\n",
       "      <th>id</th>\n",
       "      <th>name</th>\n",
       "      <th>type</th>\n",
       "      <th>maintenance_responsibility</th>\n",
       "      <th>image</th>\n",
       "      <th>neighborhood</th>\n",
       "      <th>council_district</th>\n",
       "      <th>ward</th>\n",
       "      <th>tract</th>\n",
       "      <th>public_works_division</th>\n",
       "      <th>pli_division</th>\n",
       "      <th>police_zone</th>\n",
       "      <th>fire_zone</th>\n",
       "      <th>latitude</th>\n",
       "      <th>longitude</th>\n",
       "    </tr>\n",
       "  </thead>\n",
       "  <tbody>\n",
       "    <tr>\n",
       "      <th>0</th>\n",
       "      <td>2111959181</td>\n",
       "      <td>Able Long Park</td>\n",
       "      <td>Park</td>\n",
       "      <td>Parks - Southern</td>\n",
       "      <td>https://tools.wprdc.org/images/pittsburgh/park...</td>\n",
       "      <td>Beechview</td>\n",
       "      <td>4</td>\n",
       "      <td>19</td>\n",
       "      <td>42003192000</td>\n",
       "      <td>5</td>\n",
       "      <td>19</td>\n",
       "      <td>6</td>\n",
       "      <td>4-28</td>\n",
       "      <td>40.408118</td>\n",
       "      <td>-80.028197</td>\n",
       "    </tr>\n",
       "    <tr>\n",
       "      <th>1</th>\n",
       "      <td>1109513049</td>\n",
       "      <td>Albert Turk Graham Park</td>\n",
       "      <td>Park</td>\n",
       "      <td>Parks - Schenley</td>\n",
       "      <td>https://tools.wprdc.org/images/pittsburgh/park...</td>\n",
       "      <td>Crawford-Roberts</td>\n",
       "      <td>6</td>\n",
       "      <td>3</td>\n",
       "      <td>42003030500</td>\n",
       "      <td>3</td>\n",
       "      <td>3</td>\n",
       "      <td>2</td>\n",
       "      <td>2-1</td>\n",
       "      <td>40.440507</td>\n",
       "      <td>-79.984018</td>\n",
       "    </tr>\n",
       "    <tr>\n",
       "      <th>2</th>\n",
       "      <td>1544096765</td>\n",
       "      <td>Alcoa Park</td>\n",
       "      <td>Park</td>\n",
       "      <td>Parks - Northern</td>\n",
       "      <td>NaN</td>\n",
       "      <td>North Shore</td>\n",
       "      <td>1</td>\n",
       "      <td>22</td>\n",
       "      <td>42003563200</td>\n",
       "      <td>6</td>\n",
       "      <td>22</td>\n",
       "      <td>1</td>\n",
       "      <td>1-20</td>\n",
       "      <td>40.447481</td>\n",
       "      <td>-80.001017</td>\n",
       "    </tr>\n",
       "    <tr>\n",
       "      <th>3</th>\n",
       "      <td>1212681573</td>\n",
       "      <td>Allegheny Commons</td>\n",
       "      <td>Park</td>\n",
       "      <td>Parks - Northern</td>\n",
       "      <td>NaN</td>\n",
       "      <td>Allegheny Center</td>\n",
       "      <td>1</td>\n",
       "      <td>22</td>\n",
       "      <td>42003562700</td>\n",
       "      <td>1</td>\n",
       "      <td>22</td>\n",
       "      <td>1</td>\n",
       "      <td>1-7</td>\n",
       "      <td>40.453126</td>\n",
       "      <td>-80.009158</td>\n",
       "    </tr>\n",
       "    <tr>\n",
       "      <th>4</th>\n",
       "      <td>954863286</td>\n",
       "      <td>Allegheny Landing Park</td>\n",
       "      <td>Park</td>\n",
       "      <td>Parks - Northern</td>\n",
       "      <td>NaN</td>\n",
       "      <td>North Shore</td>\n",
       "      <td>1</td>\n",
       "      <td>22</td>\n",
       "      <td>42003563200</td>\n",
       "      <td>6</td>\n",
       "      <td>22</td>\n",
       "      <td>1</td>\n",
       "      <td>1-20</td>\n",
       "      <td>40.447184</td>\n",
       "      <td>-80.002907</td>\n",
       "    </tr>\n",
       "  </tbody>\n",
       "</table>\n",
       "</div>"
      ],
      "text/plain": [
       "           id                     name  type maintenance_responsibility  \\\n",
       "0  2111959181           Able Long Park  Park           Parks - Southern   \n",
       "1  1109513049  Albert Turk Graham Park  Park           Parks - Schenley   \n",
       "2  1544096765               Alcoa Park  Park           Parks - Northern   \n",
       "3  1212681573        Allegheny Commons  Park           Parks - Northern   \n",
       "4   954863286   Allegheny Landing Park  Park           Parks - Northern   \n",
       "\n",
       "                                               image      neighborhood  \\\n",
       "0  https://tools.wprdc.org/images/pittsburgh/park...         Beechview   \n",
       "1  https://tools.wprdc.org/images/pittsburgh/park...  Crawford-Roberts   \n",
       "2                                                NaN       North Shore   \n",
       "3                                                NaN  Allegheny Center   \n",
       "4                                                NaN       North Shore   \n",
       "\n",
       "   council_district  ward        tract  public_works_division  pli_division  \\\n",
       "0                 4    19  42003192000                      5            19   \n",
       "1                 6     3  42003030500                      3             3   \n",
       "2                 1    22  42003563200                      6            22   \n",
       "3                 1    22  42003562700                      1            22   \n",
       "4                 1    22  42003563200                      6            22   \n",
       "\n",
       "   police_zone fire_zone   latitude  longitude  \n",
       "0            6      4-28  40.408118 -80.028197  \n",
       "1            2       2-1  40.440507 -79.984018  \n",
       "2            1      1-20  40.447481 -80.001017  \n",
       "3            1       1-7  40.453126 -80.009158  \n",
       "4            1      1-20  40.447184 -80.002907  "
      ]
     },
     "execution_count": 10,
     "metadata": {},
     "output_type": "execute_result"
    }
   ],
   "source": [
    "park2.head()"
   ]
  },
  {
   "cell_type": "code",
   "execution_count": 11,
   "id": "b9334c4b-f9f3-43fa-ae3a-18c56cc42afb",
   "metadata": {},
   "outputs": [],
   "source": [
    "park2 = park2[[\"name\",\"neighborhood\"]]"
   ]
  },
  {
   "cell_type": "code",
   "execution_count": 12,
   "id": "34c07afe-d0e8-4c68-b3d1-7af71708f56b",
   "metadata": {},
   "outputs": [],
   "source": [
    "parks = park1.merge(park2,how='outer',on= \"name\")"
   ]
  },
  {
   "cell_type": "code",
   "execution_count": 13,
   "id": "ab42a481-0991-47ea-8f58-e019371c531c",
   "metadata": {},
   "outputs": [
    {
     "data": {
      "text/plain": [
       "<AxesSubplot:>"
      ]
     },
     "execution_count": 13,
     "metadata": {},
     "output_type": "execute_result"
    },
    {
     "data": {
      "image/png": "[encoded data removed]",
      "text/plain": [
       "<Figure size 432x288 with 1 Axes>"
      ]
     },
     "metadata": {
      "needs_background": "light"
     },
     "output_type": "display_data"
    }
   ],
   "source": [
    "sns.heatmap(parks.isnull(),yticklabels=False,cbar=False,cmap='viridis')"
   ]
  },
  {
   "cell_type": "code",
   "execution_count": 14,
   "id": "25697054-4e45-41c1-8710-f1629e31faad",
   "metadata": {},
   "outputs": [],
   "source": [
    "parks.dropna(inplace=True)"
   ]
  },
  {
   "cell_type": "code",
   "execution_count": 15,
   "id": "eee0efe0-f238-40d3-8110-b005fbe4b389",
   "metadata": {},
   "outputs": [],
   "source": [
    "parks = pd.DataFrame(parks.groupby(by='neighborhood')['sqft'].sum().sort_values(ascending = False))"
   ]
  },
  {
   "cell_type": "code",
   "execution_count": 16,
   "id": "fcec68b2-8e99-421e-b377-172c89e0f6df",
   "metadata": {},
   "outputs": [
    {
     "data": {
      "text/html": [
       "<div>\n",
       "<style scoped>\n",
       "    .dataframe tbody tr th:only-of-type {\n",
       "        vertical-align: middle;\n",
       "    }\n",
       "\n",
       "    .dataframe tbody tr th {\n",
       "        vertical-align: top;\n",
       "    }\n",
       "\n",
       "    .dataframe thead th {\n",
       "        text-align: right;\n",
       "    }\n",
       "</style>\n",
       "<table border=\"1\" class=\"dataframe\">\n",
       "  <thead>\n",
       "    <tr style=\"text-align: right;\">\n",
       "      <th></th>\n",
       "      <th>sqft</th>\n",
       "    </tr>\n",
       "    <tr>\n",
       "      <th>neighborhood</th>\n",
       "      <th></th>\n",
       "    </tr>\n",
       "  </thead>\n",
       "  <tbody>\n",
       "    <tr>\n",
       "      <th>Squirrel Hill South</th>\n",
       "      <td>4.542749e+07</td>\n",
       "    </tr>\n",
       "    <tr>\n",
       "      <th>Highland Park</th>\n",
       "      <td>1.668423e+07</td>\n",
       "    </tr>\n",
       "    <tr>\n",
       "      <th>Perry North</th>\n",
       "      <td>1.133439e+07</td>\n",
       "    </tr>\n",
       "    <tr>\n",
       "      <th>Brookline</th>\n",
       "      <td>4.779746e+06</td>\n",
       "    </tr>\n",
       "    <tr>\n",
       "      <th>Beltzhoover</th>\n",
       "      <td>3.483008e+06</td>\n",
       "    </tr>\n",
       "  </tbody>\n",
       "</table>\n",
       "</div>"
      ],
      "text/plain": [
       "                             sqft\n",
       "neighborhood                     \n",
       "Squirrel Hill South  4.542749e+07\n",
       "Highland Park        1.668423e+07\n",
       "Perry North          1.133439e+07\n",
       "Brookline            4.779746e+06\n",
       "Beltzhoover          3.483008e+06"
      ]
     },
     "execution_count": 16,
     "metadata": {},
     "output_type": "execute_result"
    }
   ],
   "source": [
    "parks.head()"
   ]
  },
  {
   "cell_type": "code",
   "execution_count": 17,
   "id": "b57a1f2d-baf2-4357-ad35-1eed51713473",
   "metadata": {},
   "outputs": [],
   "source": [
    "import geopandas\n",
    "neighborhoods = geopandas.read_file(\"/Users/natemcdowell/Desktop/General/SchoolWork/year4/big_ideas/Data-Visualization/Neighborhoods/Neighborhoods_.shp\") # read in the shapefile"
   ]
  },
  {
   "cell_type": "code",
   "execution_count": 18,
   "id": "40686142-c384-4a9e-a2c9-00feef5405b5",
   "metadata": {},
   "outputs": [],
   "source": [
    "park_map = neighborhoods.merge(parks, how='left', left_on='hood', right_on='neighborhood')"
   ]
  },
  {
   "cell_type": "code",
   "execution_count": 19,
   "id": "1695bfaa-3f0b-45b7-91a6-3d0a8ed02686",
   "metadata": {},
   "outputs": [
    {
     "data": {
      "text/plain": [
       "<AxesSubplot:>"
      ]
     },
     "execution_count": 19,
     "metadata": {},
     "output_type": "execute_result"
    },
    {
     "data": {
      "image/png": "[encoded data removed]",
      "text/plain": [
       "<Figure size 1080x720 with 2 Axes>"
      ]
     },
     "metadata": {
      "needs_background": "light"
     },
     "output_type": "display_data"
    }
   ],
   "source": [
    "park_map.plot(column='sqft', # set the data to be used for coloring\n",
    "               cmap='OrRd',              # choose a color palette\n",
    "               edgecolor=\"white\",        # outline the districts in white\n",
    "               legend=True,              # show the legend\n",
    "               legend_kwds={'label': \"sqft of parks\"},\n",
    "               figsize=(15, 10),         # set the size\n",
    "               missing_kwds={\"color\": \"lightgrey\"} # set disctricts with no data to gray\n",
    "               )"
   ]
  },
  {
   "cell_type": "code",
   "execution_count": 20,
   "id": "64b2460b-6e1a-482e-b642-c2abb53e3092",
   "metadata": {},
   "outputs": [],
   "source": [
    "# this map shows the total sqft of parks per neighborhood; however i would like \n",
    "# to look at this data as a ratio of neighborhood size/ populati"
   ]
  },
  {
   "cell_type": "markdown",
   "id": "542cd8b2-e802-4036-b7f1-9caf27b47ae2",
   "metadata": {},
   "source": [
    "# Population"
   ]
  },
  {
   "cell_type": "code",
   "execution_count": 21,
   "id": "f232cdb3-5af6-4234-a395-d705bbfc718a",
   "metadata": {},
   "outputs": [],
   "source": [
    "pop = pd.read_csv(\"population-density.csv\")"
   ]
  },
  {
   "cell_type": "code",
   "execution_count": 22,
   "id": "3de1012c-7166-4aff-93ff-28aad2f167d2",
   "metadata": {},
   "outputs": [
    {
     "data": {
      "text/plain": [
       "Index(['Neighborhood', 'Sector #', 'Pop. 1940', 'Pop. 1950', 'Pop. 1960',\n",
       "       'Pop. 1970', 'Pop. 1980', 'Pop. 1990', 'Pop. 2000', 'Pop. 2010',\n",
       "       '% Pop. Change, 60-70', '% Pop. Change, 70-80', '% Pop. Change, 80-90',\n",
       "       '% Pop. Change, 90-00', '% Pop. Change, 00-10',\n",
       "       'Pop. as % of City total (2010)', 'Land Area (sq. mi)',\n",
       "       'Land Area (acres)', 'Persons / sq. mi (2010)',\n",
       "       'Persons / sq. mi (2000)', 'Persons / acre (2010)',\n",
       "       'Persons / acre (2000)', '% African American (2010)', '% Asian (2010)',\n",
       "       '% Other (2010)', '% White (2010)', '% 2+ Races (2010)',\n",
       "       '% Hispanic (of any race) (2010)', '% Pop. Age < 5 (2010)',\n",
       "       '% Pop. Age 5-19 (2010)', '% Pop. Age 20-34 (2010)',\n",
       "       '% Pop. Age 35-59 (2010)', '% Pop. Age 60-74 (2010)',\n",
       "       '% Pop. Age > 75 (2010)'],\n",
       "      dtype='object')"
      ]
     },
     "execution_count": 22,
     "metadata": {},
     "output_type": "execute_result"
    }
   ],
   "source": [
    "pop.columns"
   ]
  },
  {
   "cell_type": "code",
   "execution_count": 23,
   "id": "f5c344e1-a077-4b2b-8abf-1f9956fa5253",
   "metadata": {},
   "outputs": [],
   "source": [
    "pop = pop[['Neighborhood','Pop. 2010','Land Area (sq. mi)','Persons / sq. mi (2010)']]\n",
    "pop.rename(columns = {\"Pop. 2010\":\"pop\",\"Land Area (sq. mi)\":\"sqmi\",\"Persons / sq. mi (2010)\":\"person_sqmi\"}, inplace = True)\n",
    "pop.columns = pop.columns.str.lower()"
   ]
  },
  {
   "cell_type": "code",
   "execution_count": 24,
   "id": "64eebdcb-27f5-4374-a780-1e7d6dc6fe1c",
   "metadata": {},
   "outputs": [
    {
     "data": {
      "text/html": [
       "<div>\n",
       "<style scoped>\n",
       "    .dataframe tbody tr th:only-of-type {\n",
       "        vertical-align: middle;\n",
       "    }\n",
       "\n",
       "    .dataframe tbody tr th {\n",
       "        vertical-align: top;\n",
       "    }\n",
       "\n",
       "    .dataframe thead th {\n",
       "        text-align: right;\n",
       "    }\n",
       "</style>\n",
       "<table border=\"1\" class=\"dataframe\">\n",
       "  <thead>\n",
       "    <tr style=\"text-align: right;\">\n",
       "      <th></th>\n",
       "      <th>neighborhood</th>\n",
       "      <th>pop</th>\n",
       "      <th>sqmi</th>\n",
       "      <th>person_sqmi</th>\n",
       "    </tr>\n",
       "  </thead>\n",
       "  <tbody>\n",
       "    <tr>\n",
       "      <th>0</th>\n",
       "      <td>Allegheny Center</td>\n",
       "      <td>933</td>\n",
       "      <td>0.2</td>\n",
       "      <td>4,442.9</td>\n",
       "    </tr>\n",
       "    <tr>\n",
       "      <th>1</th>\n",
       "      <td>Allegheny West</td>\n",
       "      <td>462</td>\n",
       "      <td>0.1</td>\n",
       "      <td>3,276.6</td>\n",
       "    </tr>\n",
       "    <tr>\n",
       "      <th>2</th>\n",
       "      <td>Allentown</td>\n",
       "      <td>2,500</td>\n",
       "      <td>0.3</td>\n",
       "      <td>8,474.6</td>\n",
       "    </tr>\n",
       "    <tr>\n",
       "      <th>3</th>\n",
       "      <td>Arlington</td>\n",
       "      <td>1,869</td>\n",
       "      <td>0.5</td>\n",
       "      <td>3,976.6</td>\n",
       "    </tr>\n",
       "    <tr>\n",
       "      <th>4</th>\n",
       "      <td>Arlington Heights</td>\n",
       "      <td>244</td>\n",
       "      <td>0.1</td>\n",
       "      <td>1,848.5</td>\n",
       "    </tr>\n",
       "  </tbody>\n",
       "</table>\n",
       "</div>"
      ],
      "text/plain": [
       "        neighborhood    pop  sqmi person_sqmi\n",
       "0   Allegheny Center    933   0.2     4,442.9\n",
       "1     Allegheny West    462   0.1     3,276.6\n",
       "2          Allentown  2,500   0.3     8,474.6\n",
       "3          Arlington  1,869   0.5     3,976.6\n",
       "4  Arlington Heights    244   0.1     1,848.5"
      ]
     },
     "execution_count": 24,
     "metadata": {},
     "output_type": "execute_result"
    }
   ],
   "source": [
    "pop.head()"
   ]
  },
  {
   "cell_type": "markdown",
   "id": "60880595-72a5-475e-99d4-d99da2b13718",
   "metadata": {},
   "source": [
    "# Traffic/Road Data"
   ]
  },
  {
   "cell_type": "code",
   "execution_count": 25,
   "id": "b171ebfc-31c2-428b-91e8-c0154feb7893",
   "metadata": {},
   "outputs": [],
   "source": [
    "cross = pd.read_csv(\"crosswalks.csv\")"
   ]
  },
  {
   "cell_type": "code",
   "execution_count": 26,
   "id": "036c1164-fe29-4be4-bc3c-ac16c26a2a94",
   "metadata": {},
   "outputs": [
    {
     "data": {
      "text/html": [
       "<div>\n",
       "<style scoped>\n",
       "    .dataframe tbody tr th:only-of-type {\n",
       "        vertical-align: middle;\n",
       "    }\n",
       "\n",
       "    .dataframe tbody tr th {\n",
       "        vertical-align: top;\n",
       "    }\n",
       "\n",
       "    .dataframe thead th {\n",
       "        text-align: right;\n",
       "    }\n",
       "</style>\n",
       "<table border=\"1\" class=\"dataframe\">\n",
       "  <thead>\n",
       "    <tr style=\"text-align: right;\">\n",
       "      <th></th>\n",
       "      <th>id</th>\n",
       "      <th>type</th>\n",
       "      <th>street</th>\n",
       "      <th>inactive</th>\n",
       "      <th>neighborhood</th>\n",
       "      <th>council_district</th>\n",
       "      <th>ward</th>\n",
       "      <th>tract</th>\n",
       "      <th>public_works_division</th>\n",
       "      <th>pli_division</th>\n",
       "      <th>police_zone</th>\n",
       "      <th>fire_zone</th>\n",
       "      <th>latitude</th>\n",
       "      <th>longitude</th>\n",
       "    </tr>\n",
       "  </thead>\n",
       "  <tbody>\n",
       "    <tr>\n",
       "      <th>0</th>\n",
       "      <td>1559483633</td>\n",
       "      <td>Crosswalk - Other</td>\n",
       "      <td>ELEVENTH ST</td>\n",
       "      <td>f</td>\n",
       "      <td>Central Business District</td>\n",
       "      <td>6.0</td>\n",
       "      <td>2.0</td>\n",
       "      <td>42003020100</td>\n",
       "      <td>6.0</td>\n",
       "      <td>2.0</td>\n",
       "      <td>2.0</td>\n",
       "      <td>2-3</td>\n",
       "      <td>40.444989</td>\n",
       "      <td>-79.993884</td>\n",
       "    </tr>\n",
       "    <tr>\n",
       "      <th>1</th>\n",
       "      <td>785965942</td>\n",
       "      <td>Crosswalk - Two Lined</td>\n",
       "      <td>PENN AVE</td>\n",
       "      <td>f</td>\n",
       "      <td>Strip District</td>\n",
       "      <td>7.0</td>\n",
       "      <td>2.0</td>\n",
       "      <td>42003020300</td>\n",
       "      <td>6.0</td>\n",
       "      <td>2.0</td>\n",
       "      <td>2.0</td>\n",
       "      <td>2-3</td>\n",
       "      <td>40.445717</td>\n",
       "      <td>-79.992465</td>\n",
       "    </tr>\n",
       "    <tr>\n",
       "      <th>2</th>\n",
       "      <td>2008474459</td>\n",
       "      <td>Crosswalk - Two Lined</td>\n",
       "      <td>MORNINGSIDE AVE</td>\n",
       "      <td>f</td>\n",
       "      <td>Morningside</td>\n",
       "      <td>7.0</td>\n",
       "      <td>10.0</td>\n",
       "      <td>42003101400</td>\n",
       "      <td>2.0</td>\n",
       "      <td>10.0</td>\n",
       "      <td>5.0</td>\n",
       "      <td>3-7</td>\n",
       "      <td>40.479579</td>\n",
       "      <td>-79.930685</td>\n",
       "    </tr>\n",
       "    <tr>\n",
       "      <th>3</th>\n",
       "      <td>1207933462</td>\n",
       "      <td>Crosswalk - Two Lined</td>\n",
       "      <td>TECH ST</td>\n",
       "      <td>f</td>\n",
       "      <td>Squirrel Hill North</td>\n",
       "      <td>8.0</td>\n",
       "      <td>14.0</td>\n",
       "      <td>42003140100</td>\n",
       "      <td>3.0</td>\n",
       "      <td>14.0</td>\n",
       "      <td>4.0</td>\n",
       "      <td>2-8</td>\n",
       "      <td>40.440528</td>\n",
       "      <td>-79.942126</td>\n",
       "    </tr>\n",
       "    <tr>\n",
       "      <th>4</th>\n",
       "      <td>905740180</td>\n",
       "      <td>Crosswalk - Two Lined</td>\n",
       "      <td>FREW ST</td>\n",
       "      <td>f</td>\n",
       "      <td>Squirrel Hill South</td>\n",
       "      <td>5.0</td>\n",
       "      <td>14.0</td>\n",
       "      <td>42003980500</td>\n",
       "      <td>3.0</td>\n",
       "      <td>14.0</td>\n",
       "      <td>4.0</td>\n",
       "      <td>2-8</td>\n",
       "      <td>40.440468</td>\n",
       "      <td>-79.942267</td>\n",
       "    </tr>\n",
       "  </tbody>\n",
       "</table>\n",
       "</div>"
      ],
      "text/plain": [
       "           id                   type           street inactive  \\\n",
       "0  1559483633      Crosswalk - Other      ELEVENTH ST        f   \n",
       "1   785965942  Crosswalk - Two Lined         PENN AVE        f   \n",
       "2  2008474459  Crosswalk - Two Lined  MORNINGSIDE AVE        f   \n",
       "3  1207933462  Crosswalk - Two Lined          TECH ST        f   \n",
       "4   905740180  Crosswalk - Two Lined          FREW ST        f   \n",
       "\n",
       "                neighborhood  council_district  ward        tract  \\\n",
       "0  Central Business District               6.0   2.0  42003020100   \n",
       "1             Strip District               7.0   2.0  42003020300   \n",
       "2                Morningside               7.0  10.0  42003101400   \n",
       "3        Squirrel Hill North               8.0  14.0  42003140100   \n",
       "4        Squirrel Hill South               5.0  14.0  42003980500   \n",
       "\n",
       "   public_works_division  pli_division  police_zone fire_zone   latitude  \\\n",
       "0                    6.0           2.0          2.0       2-3  40.444989   \n",
       "1                    6.0           2.0          2.0       2-3  40.445717   \n",
       "2                    2.0          10.0          5.0       3-7  40.479579   \n",
       "3                    3.0          14.0          4.0       2-8  40.440528   \n",
       "4                    3.0          14.0          4.0       2-8  40.440468   \n",
       "\n",
       "   longitude  \n",
       "0 -79.993884  \n",
       "1 -79.992465  \n",
       "2 -79.930685  \n",
       "3 -79.942126  \n",
       "4 -79.942267  "
      ]
     },
     "execution_count": 26,
     "metadata": {},
     "output_type": "execute_result"
    }
   ],
   "source": [
    "cross.head()"
   ]
  },
  {
   "cell_type": "code",
   "execution_count": 27,
   "id": "2b9ea8a9-d3cb-49e0-8b20-3402790d184c",
   "metadata": {},
   "outputs": [],
   "source": [
    "total_walks = pd.DataFrame(cross.value_counts(\"neighborhood\"))"
   ]
  },
  {
   "cell_type": "code",
   "execution_count": 28,
   "id": "e2bf110f-2478-4358-bbcc-636a3f6107c0",
   "metadata": {},
   "outputs": [
    {
     "data": {
      "text/plain": [
       "<AxesSubplot:ylabel='neighborhood'>"
      ]
     },
     "execution_count": 28,
     "metadata": {},
     "output_type": "execute_result"
    },
    {
     "data": {
      "image/png": "[encoded data removed]",
      "text/plain": [
       "<Figure size 432x288 with 1 Axes>"
      ]
     },
     "metadata": {
      "needs_background": "light"
     },
     "output_type": "display_data"
    }
   ],
   "source": [
    "total_walks.head(10).plot(kind=\"barh\")"
   ]
  },
  {
   "cell_type": "code",
   "execution_count": 29,
   "id": "8f9e89ec-c20d-48bf-847b-49e01eaac763",
   "metadata": {},
   "outputs": [],
   "source": [
    "signs = pd.read_csv(\"signage.csv\")"
   ]
  },
  {
   "cell_type": "code",
   "execution_count": 30,
   "id": "6a6100fe-fc55-40ca-81e0-5252848495ea",
   "metadata": {},
   "outputs": [
    {
     "data": {
      "text/html": [
       "<div>\n",
       "<style scoped>\n",
       "    .dataframe tbody tr th:only-of-type {\n",
       "        vertical-align: middle;\n",
       "    }\n",
       "\n",
       "    .dataframe tbody tr th {\n",
       "        vertical-align: top;\n",
       "    }\n",
       "\n",
       "    .dataframe thead th {\n",
       "        text-align: right;\n",
       "    }\n",
       "</style>\n",
       "<table border=\"1\" class=\"dataframe\">\n",
       "  <thead>\n",
       "    <tr style=\"text-align: right;\">\n",
       "      <th></th>\n",
       "      <th>id</th>\n",
       "      <th>name</th>\n",
       "      <th>description</th>\n",
       "      <th>flash_time</th>\n",
       "      <th>flash_yellow</th>\n",
       "      <th>operation_type</th>\n",
       "      <th>neighborhood</th>\n",
       "      <th>council_district</th>\n",
       "      <th>ward</th>\n",
       "      <th>tract</th>\n",
       "      <th>public_works_division</th>\n",
       "      <th>pli_division</th>\n",
       "      <th>police_zone</th>\n",
       "      <th>fire_zone</th>\n",
       "      <th>latitude</th>\n",
       "      <th>longitude</th>\n",
       "    </tr>\n",
       "  </thead>\n",
       "  <tbody>\n",
       "    <tr>\n",
       "      <th>0</th>\n",
       "      <td>1233506574</td>\n",
       "      <td>TS1</td>\n",
       "      <td>Aiken Ave - Baum Blvd</td>\n",
       "      <td>24 Hr stop and go</td>\n",
       "      <td>NaN</td>\n",
       "      <td>Fully Actuated</td>\n",
       "      <td>Bloomfield</td>\n",
       "      <td>7.0</td>\n",
       "      <td>8.0</td>\n",
       "      <td>4.200308e+10</td>\n",
       "      <td>2.0</td>\n",
       "      <td>8.0</td>\n",
       "      <td>5.0</td>\n",
       "      <td>3-23</td>\n",
       "      <td>40.456941</td>\n",
       "      <td>-79.938539</td>\n",
       "    </tr>\n",
       "    <tr>\n",
       "      <th>1</th>\n",
       "      <td>322808398</td>\n",
       "      <td>TS10</td>\n",
       "      <td>Alexander St - Steuben St</td>\n",
       "      <td>24 Hr stop and go</td>\n",
       "      <td>NaN</td>\n",
       "      <td>Semi Actuated</td>\n",
       "      <td>West End</td>\n",
       "      <td>2.0</td>\n",
       "      <td>20.0</td>\n",
       "      <td>4.200356e+10</td>\n",
       "      <td>5.0</td>\n",
       "      <td>20.0</td>\n",
       "      <td>6.0</td>\n",
       "      <td>1-17</td>\n",
       "      <td>40.441993</td>\n",
       "      <td>-80.034544</td>\n",
       "    </tr>\n",
       "    <tr>\n",
       "      <th>2</th>\n",
       "      <td>1626189126</td>\n",
       "      <td>TS100</td>\n",
       "      <td>Beeler St - Forbes Ave</td>\n",
       "      <td>24 Hr stop and go</td>\n",
       "      <td>NaN</td>\n",
       "      <td>Semi Actuated</td>\n",
       "      <td>Squirrel Hill North</td>\n",
       "      <td>8.0</td>\n",
       "      <td>14.0</td>\n",
       "      <td>4.200314e+10</td>\n",
       "      <td>3.0</td>\n",
       "      <td>14.0</td>\n",
       "      <td>4.0</td>\n",
       "      <td>2-26</td>\n",
       "      <td>40.443890</td>\n",
       "      <td>-79.938799</td>\n",
       "    </tr>\n",
       "    <tr>\n",
       "      <th>3</th>\n",
       "      <td>2085487046</td>\n",
       "      <td>TS101</td>\n",
       "      <td>Beeler St - Wilkins Ave</td>\n",
       "      <td>00:00 - 06:00</td>\n",
       "      <td>NaN</td>\n",
       "      <td>Fixed</td>\n",
       "      <td>Squirrel Hill North</td>\n",
       "      <td>8.0</td>\n",
       "      <td>14.0</td>\n",
       "      <td>4.200314e+10</td>\n",
       "      <td>3.0</td>\n",
       "      <td>14.0</td>\n",
       "      <td>4.0</td>\n",
       "      <td>2-26</td>\n",
       "      <td>40.445636</td>\n",
       "      <td>-79.931220</td>\n",
       "    </tr>\n",
       "    <tr>\n",
       "      <th>4</th>\n",
       "      <td>1187990770</td>\n",
       "      <td>TS102</td>\n",
       "      <td>Bellefield Ave - Fifth Ave</td>\n",
       "      <td>24 Hr stop and go</td>\n",
       "      <td>FIFTH AVE</td>\n",
       "      <td>Fixed</td>\n",
       "      <td>North Oakland</td>\n",
       "      <td>8.0</td>\n",
       "      <td>4.0</td>\n",
       "      <td>4.200304e+10</td>\n",
       "      <td>3.0</td>\n",
       "      <td>4.0</td>\n",
       "      <td>4.0</td>\n",
       "      <td>2-7</td>\n",
       "      <td>40.446484</td>\n",
       "      <td>-79.951914</td>\n",
       "    </tr>\n",
       "  </tbody>\n",
       "</table>\n",
       "</div>"
      ],
      "text/plain": [
       "           id   name                 description         flash_time  \\\n",
       "0  1233506574    TS1       Aiken Ave - Baum Blvd  24 Hr stop and go   \n",
       "1   322808398   TS10   Alexander St - Steuben St  24 Hr stop and go   \n",
       "2  1626189126  TS100      Beeler St - Forbes Ave  24 Hr stop and go   \n",
       "3  2085487046  TS101     Beeler St - Wilkins Ave      00:00 - 06:00   \n",
       "4  1187990770  TS102  Bellefield Ave - Fifth Ave  24 Hr stop and go   \n",
       "\n",
       "  flash_yellow  operation_type         neighborhood  council_district  ward  \\\n",
       "0          NaN  Fully Actuated           Bloomfield               7.0   8.0   \n",
       "1          NaN   Semi Actuated             West End               2.0  20.0   \n",
       "2          NaN   Semi Actuated  Squirrel Hill North               8.0  14.0   \n",
       "3          NaN           Fixed  Squirrel Hill North               8.0  14.0   \n",
       "4    FIFTH AVE           Fixed        North Oakland               8.0   4.0   \n",
       "\n",
       "          tract  public_works_division  pli_division  police_zone fire_zone  \\\n",
       "0  4.200308e+10                    2.0           8.0          5.0      3-23   \n",
       "1  4.200356e+10                    5.0          20.0          6.0      1-17   \n",
       "2  4.200314e+10                    3.0          14.0          4.0      2-26   \n",
       "3  4.200314e+10                    3.0          14.0          4.0      2-26   \n",
       "4  4.200304e+10                    3.0           4.0          4.0       2-7   \n",
       "\n",
       "    latitude  longitude  \n",
       "0  40.456941 -79.938539  \n",
       "1  40.441993 -80.034544  \n",
       "2  40.443890 -79.938799  \n",
       "3  40.445636 -79.931220  \n",
       "4  40.446484 -79.951914  "
      ]
     },
     "execution_count": 30,
     "metadata": {},
     "output_type": "execute_result"
    }
   ],
   "source": [
    "signs.head()"
   ]
  },
  {
   "cell_type": "code",
   "execution_count": 31,
   "id": "b169315d-c54c-4617-b1d7-ddb79b0b44ab",
   "metadata": {},
   "outputs": [],
   "source": [
    "total_signs = pd.DataFrame(signs.value_counts(\"neighborhood\"))"
   ]
  },
  {
   "cell_type": "code",
   "execution_count": 32,
   "id": "d008b87e-a273-470d-a81c-704f86dfce5a",
   "metadata": {},
   "outputs": [
    {
     "data": {
      "text/plain": [
       "<AxesSubplot:ylabel='neighborhood'>"
      ]
     },
     "execution_count": 32,
     "metadata": {},
     "output_type": "execute_result"
    },
    {
     "data": {
      "image/png": "[encoded data removed]",
      "text/plain": [
       "<Figure size 432x288 with 1 Axes>"
      ]
     },
     "metadata": {
      "needs_background": "light"
     },
     "output_type": "display_data"
    }
   ],
   "source": [
    "total_signs.head(10).plot(kind=\"barh\")"
   ]
  },
  {
   "cell_type": "code",
   "execution_count": 33,
   "id": "32f86b5e-197e-4f1e-8d5d-7d3802762763",
   "metadata": {},
   "outputs": [],
   "source": [
    "#combine traffic data with population data"
   ]
  },
  {
   "cell_type": "markdown",
   "id": "2427fbc1-c5fd-4ee1-84fb-bb80f827b559",
   "metadata": {},
   "source": [
    "# combining data"
   ]
  },
  {
   "cell_type": "code",
   "execution_count": 34,
   "id": "3480fad3-ffe1-463b-8434-c2d4bcb116dd",
   "metadata": {},
   "outputs": [],
   "source": [
    "frame = pop.merge(total_signs, on = \"neighborhood\")\n",
    "frame = frame.merge(total_walks, on = \"neighborhood\")\n",
    "frame =frame.merge(parks, on = \"neighborhood\")"
   ]
  },
  {
   "cell_type": "code",
   "execution_count": 35,
   "id": "f05ecd51-168e-4758-9559-da80229f973a",
   "metadata": {},
   "outputs": [
    {
     "data": {
      "text/html": [
       "<div>\n",
       "<style scoped>\n",
       "    .dataframe tbody tr th:only-of-type {\n",
       "        vertical-align: middle;\n",
       "    }\n",
       "\n",
       "    .dataframe tbody tr th {\n",
       "        vertical-align: top;\n",
       "    }\n",
       "\n",
       "    .dataframe thead th {\n",
       "        text-align: right;\n",
       "    }\n",
       "</style>\n",
       "<table border=\"1\" class=\"dataframe\">\n",
       "  <thead>\n",
       "    <tr style=\"text-align: right;\">\n",
       "      <th></th>\n",
       "      <th>neighborhood</th>\n",
       "      <th>pop</th>\n",
       "      <th>sqmi</th>\n",
       "      <th>person_sqmi</th>\n",
       "      <th>0_x</th>\n",
       "      <th>0_y</th>\n",
       "      <th>sqft</th>\n",
       "    </tr>\n",
       "  </thead>\n",
       "  <tbody>\n",
       "    <tr>\n",
       "      <th>0</th>\n",
       "      <td>Allegheny Center</td>\n",
       "      <td>933</td>\n",
       "      <td>0.2</td>\n",
       "      <td>4,442.9</td>\n",
       "      <td>14</td>\n",
       "      <td>41</td>\n",
       "      <td>2.783957e+06</td>\n",
       "    </tr>\n",
       "    <tr>\n",
       "      <th>1</th>\n",
       "      <td>Allentown</td>\n",
       "      <td>2,500</td>\n",
       "      <td>0.3</td>\n",
       "      <td>8,474.6</td>\n",
       "      <td>4</td>\n",
       "      <td>24</td>\n",
       "      <td>1.433968e+06</td>\n",
       "    </tr>\n",
       "    <tr>\n",
       "      <th>2</th>\n",
       "      <td>Arlington</td>\n",
       "      <td>1,869</td>\n",
       "      <td>0.5</td>\n",
       "      <td>3,976.6</td>\n",
       "      <td>1</td>\n",
       "      <td>13</td>\n",
       "      <td>2.529969e+05</td>\n",
       "    </tr>\n",
       "    <tr>\n",
       "      <th>3</th>\n",
       "      <td>Banksville</td>\n",
       "      <td>4,144</td>\n",
       "      <td>1.0</td>\n",
       "      <td>4,276.6</td>\n",
       "      <td>6</td>\n",
       "      <td>16</td>\n",
       "      <td>8.368560e+05</td>\n",
       "    </tr>\n",
       "    <tr>\n",
       "      <th>4</th>\n",
       "      <td>Bedford Dwellings</td>\n",
       "      <td>1,202</td>\n",
       "      <td>0.2</td>\n",
       "      <td>6,715.1</td>\n",
       "      <td>1</td>\n",
       "      <td>8</td>\n",
       "      <td>3.520345e+05</td>\n",
       "    </tr>\n",
       "  </tbody>\n",
       "</table>\n",
       "</div>"
      ],
      "text/plain": [
       "        neighborhood    pop  sqmi person_sqmi  0_x  0_y          sqft\n",
       "0   Allegheny Center    933   0.2     4,442.9   14   41  2.783957e+06\n",
       "1          Allentown  2,500   0.3     8,474.6    4   24  1.433968e+06\n",
       "2          Arlington  1,869   0.5     3,976.6    1   13  2.529969e+05\n",
       "3         Banksville  4,144   1.0     4,276.6    6   16  8.368560e+05\n",
       "4  Bedford Dwellings  1,202   0.2     6,715.1    1    8  3.520345e+05"
      ]
     },
     "execution_count": 35,
     "metadata": {},
     "output_type": "execute_result"
    }
   ],
   "source": [
    "frame.head()"
   ]
  },
  {
   "cell_type": "code",
   "execution_count": 36,
   "id": "b4a6a8c0-491b-4740-a6d4-858ca252ef12",
   "metadata": {},
   "outputs": [],
   "source": [
    "frame = frame.rename(columns = {\"0_x\":\"signs\",\"0_y\":\"walks\",\"sqft\":\"park_area\"})"
   ]
  },
  {
   "cell_type": "code",
   "execution_count": 37,
   "id": "5869b6f5-c88a-44bc-a4e5-e6d1e32497f5",
   "metadata": {},
   "outputs": [
    {
     "data": {
      "text/plain": [
       "neighborhood     object\n",
       "pop              object\n",
       "sqmi            float64\n",
       "person_sqmi      object\n",
       "signs             int64\n",
       "walks             int64\n",
       "park_area       float64\n",
       "dtype: object"
      ]
     },
     "execution_count": 37,
     "metadata": {},
     "output_type": "execute_result"
    }
   ],
   "source": [
    "frame.dtypes"
   ]
  },
  {
   "cell_type": "code",
   "execution_count": 38,
   "id": "aa28a381-642f-4e8a-b430-5351b90176be",
   "metadata": {},
   "outputs": [],
   "source": [
    "frame[\"person_sqmi\"]=frame[\"person_sqmi\"].str.replace(\",\",\"\")"
   ]
  },
  {
   "cell_type": "code",
   "execution_count": 39,
   "id": "e1e6b19d-4da6-41de-ae8f-49a3fa6b7871",
   "metadata": {},
   "outputs": [],
   "source": [
    "frame[\"person_sqmi\"] = frame[\"person_sqmi\"].astype(float)"
   ]
  },
  {
   "cell_type": "code",
   "execution_count": 40,
   "id": "a37da304-a1b8-4306-bc45-29e69a9c409c",
   "metadata": {},
   "outputs": [
    {
     "data": {
      "text/html": [
       "<div>\n",
       "<style scoped>\n",
       "    .dataframe tbody tr th:only-of-type {\n",
       "        vertical-align: middle;\n",
       "    }\n",
       "\n",
       "    .dataframe tbody tr th {\n",
       "        vertical-align: top;\n",
       "    }\n",
       "\n",
       "    .dataframe thead th {\n",
       "        text-align: right;\n",
       "    }\n",
       "</style>\n",
       "<table border=\"1\" class=\"dataframe\">\n",
       "  <thead>\n",
       "    <tr style=\"text-align: right;\">\n",
       "      <th></th>\n",
       "      <th>neighborhood</th>\n",
       "      <th>pop</th>\n",
       "      <th>sqmi</th>\n",
       "      <th>person_sqmi</th>\n",
       "      <th>signs</th>\n",
       "      <th>walks</th>\n",
       "      <th>park_area</th>\n",
       "    </tr>\n",
       "  </thead>\n",
       "  <tbody>\n",
       "    <tr>\n",
       "      <th>0</th>\n",
       "      <td>Allegheny Center</td>\n",
       "      <td>933</td>\n",
       "      <td>0.2</td>\n",
       "      <td>4442.9</td>\n",
       "      <td>14</td>\n",
       "      <td>41</td>\n",
       "      <td>2.783957e+06</td>\n",
       "    </tr>\n",
       "    <tr>\n",
       "      <th>1</th>\n",
       "      <td>Allentown</td>\n",
       "      <td>2,500</td>\n",
       "      <td>0.3</td>\n",
       "      <td>8474.6</td>\n",
       "      <td>4</td>\n",
       "      <td>24</td>\n",
       "      <td>1.433968e+06</td>\n",
       "    </tr>\n",
       "    <tr>\n",
       "      <th>2</th>\n",
       "      <td>Arlington</td>\n",
       "      <td>1,869</td>\n",
       "      <td>0.5</td>\n",
       "      <td>3976.6</td>\n",
       "      <td>1</td>\n",
       "      <td>13</td>\n",
       "      <td>2.529969e+05</td>\n",
       "    </tr>\n",
       "    <tr>\n",
       "      <th>3</th>\n",
       "      <td>Banksville</td>\n",
       "      <td>4,144</td>\n",
       "      <td>1.0</td>\n",
       "      <td>4276.6</td>\n",
       "      <td>6</td>\n",
       "      <td>16</td>\n",
       "      <td>8.368560e+05</td>\n",
       "    </tr>\n",
       "    <tr>\n",
       "      <th>4</th>\n",
       "      <td>Bedford Dwellings</td>\n",
       "      <td>1,202</td>\n",
       "      <td>0.2</td>\n",
       "      <td>6715.1</td>\n",
       "      <td>1</td>\n",
       "      <td>8</td>\n",
       "      <td>3.520345e+05</td>\n",
       "    </tr>\n",
       "  </tbody>\n",
       "</table>\n",
       "</div>"
      ],
      "text/plain": [
       "        neighborhood    pop  sqmi  person_sqmi  signs  walks     park_area\n",
       "0   Allegheny Center    933   0.2       4442.9     14     41  2.783957e+06\n",
       "1          Allentown  2,500   0.3       8474.6      4     24  1.433968e+06\n",
       "2          Arlington  1,869   0.5       3976.6      1     13  2.529969e+05\n",
       "3         Banksville  4,144   1.0       4276.6      6     16  8.368560e+05\n",
       "4  Bedford Dwellings  1,202   0.2       6715.1      1      8  3.520345e+05"
      ]
     },
     "execution_count": 40,
     "metadata": {},
     "output_type": "execute_result"
    }
   ],
   "source": [
    "frame.head()"
   ]
  },
  {
   "cell_type": "code",
   "execution_count": 43,
   "id": "a3b4c6ac-a29e-47c3-b1d8-5ca0fb671052",
   "metadata": {},
   "outputs": [],
   "source": [
    "# don't know what to make the metric"
   ]
  },
  {
   "cell_type": "code",
   "execution_count": 42,
   "id": "8956fd8a-1154-407d-9be9-ef0d5595ead7",
   "metadata": {},
   "outputs": [
    {
     "ename": "NameError",
     "evalue": "name 'b' is not defined",
     "output_type": "error",
     "traceback": [
      "\u001b[0;31m---------------------------------------------------------------------------\u001b[0m",
      "\u001b[0;31mNameError\u001b[0m                                 Traceback (most recent call last)",
      "\u001b[0;32m<ipython-input-42-89e6c98d9288>\u001b[0m in \u001b[0;36m<module>\u001b[0;34m\u001b[0m\n\u001b[0;32m----> 1\u001b[0;31m \u001b[0mb\u001b[0m\u001b[0;34m\u001b[0m\u001b[0;34m\u001b[0m\u001b[0m\n\u001b[0m",
      "\u001b[0;31mNameError\u001b[0m: name 'b' is not defined"
     ]
    }
   ],
   "source": [
    "b"
   ]
  },
  {
   "cell_type": "code",
   "execution_count": null,
   "id": "a5334b4c-694e-4df9-abb2-22b602bf5139",
   "metadata": {},
   "outputs": [],
   "source": [
    "frame[\"signs_walks\"] = (frame[\"signs\"]+frame[\"walks\"])/frame[\"sqmi\"]"
   ]
  },
  {
   "cell_type": "code",
   "execution_count": null,
   "id": "349f45bc-23c6-4168-99c4-f968ff264604",
   "metadata": {},
   "outputs": [],
   "source": [
    "frame.head()"
   ]
  },
  {
   "cell_type": "code",
   "execution_count": null,
   "id": "d94437a9-0055-492a-af63-73a66ece21b4",
   "metadata": {},
   "outputs": [],
   "source": [
    "frame = frame.sort_values(by=\"signs_walks\")"
   ]
  },
  {
   "cell_type": "code",
   "execution_count": null,
   "id": "172552b4-5c04-4fdc-a891-d22b6f7f64bc",
   "metadata": {},
   "outputs": [],
   "source": [
    "frame.tail(20).plot(x=\"neighborhood\",y=\"signs_walks\",kind=\"barh\")"
   ]
  },
  {
   "cell_type": "code",
   "execution_count": null,
   "id": "c82280ff-8551-4f60-9e12-d5a5445a7aa0",
   "metadata": {},
   "outputs": [],
   "source": []
  }
 ],
 "metadata": {
  "kernelspec": {
   "display_name": "Python 3",
   "language": "python",
   "name": "python3"
  },
  "language_info": {
   "codemirror_mode": {
    "name": "ipython",
    "version": 3
   },
   "file_extension": ".py",
   "mimetype": "text/x-python",
   "name": "python",
   "nbconvert_exporter": "python",
   "pygments_lexer": "ipython3",
   "version": "3.8.8"
  }
 },
 "nbformat": 4,
 "nbformat_minor": 5
}
